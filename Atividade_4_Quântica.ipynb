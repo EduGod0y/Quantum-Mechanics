{
  "nbformat": 4,
  "nbformat_minor": 0,
  "metadata": {
    "colab": {
      "provenance": [],
      "authorship_tag": "ABX9TyPoQbIX8t1y/qX0FAE6hU9k",
      "include_colab_link": true
    },
    "kernelspec": {
      "name": "python3",
      "display_name": "Python 3"
    },
    "language_info": {
      "name": "python"
    }
  },
  "cells": [
    {
      "cell_type": "markdown",
      "metadata": {
        "id": "view-in-github",
        "colab_type": "text"
      },
      "source": [
        "<a href=\"https://colab.research.google.com/github/EduGod0y/Quantum-Mechanics/blob/main/Atividade_4_Qu%C3%A2ntica.ipynb\" target=\"_parent\"><img src=\"https://colab.research.google.com/assets/colab-badge.svg\" alt=\"Open In Colab\"/></a>"
      ]
    },
    {
      "cell_type": "markdown",
      "metadata": {
        "id": "SKOkWcryt_gg"
      },
      "source": [
        "#Atividade 4 - Mecânica Quântica\n",
        "##Eduardo Godoy da Silveira - 00313426\n",
        "### 01/09/2021\n",
        "\n",
        "Esse trabalho foi produzido no Google Colab exclusivamente por mim. Nenhuma parte deste trabalho (texto e fórmulas) foram copiadas digitalmente de outras fontes."
      ]
    },
    {
      "cell_type": "markdown",
      "metadata": {
        "id": "jXqXleuy2Nt4"
      },
      "source": [
        "##**1) Mostrar que o produto interno de duas exponencias complexas $e^{ikx}$ e $e^{ik′x}$ é : $2πδ(k′−k)$**"
      ]
    },
    {
      "cell_type": "markdown",
      "metadata": {
        "id": "4e8dvNvx31sx"
      },
      "source": [
        "Pela definição do produto interno:\n",
        "$$\n",
        "\\left \\langle e^{ikx} | e^{ik'x} \\right \\rangle = \\lim_{E\\rightarrow 0} \\int_{-\\infty}^{\\infty} e^{i(k-k') x} e^{-Ex}dx , E \\neq 0\n",
        "$$\n",
        "Se subtituirmos $k'-k$ por $\\alpha$\n",
        "$$\n",
        " \\lim_{E\\rightarrow 0} \\int_{-\\infty}^{\\infty} e^{i\\alpha x} e^{-E|x|}dx\n",
        "$$\n",
        "Transformando em trigonométricas:\n",
        "$$\n",
        "\\lim_{E\\rightarrow 0} \\int_{-\\infty}^{\\infty} \\cos({\\alpha x})+i\\sin({\\alpha x}) e^{-E|x|}dx\n",
        "$$\n",
        "Separando os limites de integração:\n",
        "$$\n",
        "\\lim_{E\\rightarrow 0} [\\int_{-\\infty}^{0} (\\cos({\\alpha x})+i\\sin({\\alpha x})) e^{Ex}dx+\\int_{0}^{\\infty} (\\cos({\\alpha x})+i\\sin({\\alpha x})) e^{-Ex}dx]\n",
        "$$\n",
        "Invertendo os limites de integração:\n",
        "$$\n",
        "\\lim_{E\\rightarrow 0} [\\int_{0}^{\\infty} e^{-Ex}(\\cos({\\alpha x})-i\\sin({\\alpha x}))dx+\\int_{0}^{\\infty} e^{-Ex}(\\cos({\\alpha x})+i\\sin({\\alpha x})) dx]\n",
        "$$\n",
        "\n",
        "$$\n",
        "\\lim_{E\\rightarrow 0}  [2\\int_{0}^{\\infty} e^{-Ex}\\cos({\\alpha x})dx]\n",
        "$$\n",
        "Resolvendo a integral no Wolphram:\n",
        "$$\n",
        "\\lim_{E\\rightarrow 0}\\frac{2E}{E^2 + \\alpha^2}\n",
        "$$\n",
        "\n",
        "$$\n",
        "\\int_{-\\infty}^{\\infty}\\lim_{E\\rightarrow 0}\\frac{2E}{E^2 + \\alpha^2}\n",
        "$$\n",
        "\n",
        "$$\n",
        "\\lim_{E\\rightarrow 0}\\int_{-\\infty}^{\\infty}\\frac{2E}{E^2 + \\alpha^2}\n",
        "$$\n",
        "Resolvendo novamente no Wolphram:\n",
        "$$\n",
        "\\lim_{E\\rightarrow 0} 2\\pi\\sqrt{\\frac{1}{E^2}}E\n",
        "$$\n",
        "\n",
        "$$\n",
        "2\\pi\\lim_{E\\rightarrow 0}\\sqrt{\\frac{1}{E^2}}E \\longrightarrow 2\\pi * 1\n",
        "$$\n",
        "Utilizando a constante de normalizção:\n",
        "\n",
        "$$\n",
        "\\int_{-\\infty}^{\\infty} \\frac{e^{i(k'-k) x}}{\\sqrt{2\\pi}}dx = \\delta(k'-k)\n",
        "$$\n",
        "Então:\n",
        "$$\n",
        "\\int_{-\\infty}^{\\infty} {e^{i(k'-k) x}}dx = 2\\pi \\delta(k'-k) = \\left \\langle e^{ikx} | e^{ik'x} \\right \\rangle\n",
        "$$\n",
        "\n"
      ]
    },
    {
      "cell_type": "markdown",
      "metadata": {
        "id": "AEo5Vq5mP4gg"
      },
      "source": [
        "##**2) Faça o gráfico, de preferência no jupyter, desta integral regularizada, para diferentes valores do regularizador**"
      ]
    },
    {
      "cell_type": "code",
      "metadata": {
        "id": "Xix19CJMsk4r"
      },
      "source": [
        "import numpy as np\n",
        "import matplotlib.pyplot as plt\n",
        "import pandas as pd\n",
        "import scipy as spy\n",
        "import scipy.integrate as sci "
      ],
      "execution_count": null,
      "outputs": []
    },
    {
      "cell_type": "code",
      "metadata": {
        "id": "bTQRyAC9oX14"
      },
      "source": [
        "def f(x, a):\n",
        "\n",
        "  return 2*a/(x*x + a*a )\n",
        "alpha = [0.01, 0.1, 0.5, 1]\n",
        "x = np.arange(-50.1,50.1, 1)"
      ],
      "execution_count": null,
      "outputs": []
    },
    {
      "cell_type": "code",
      "metadata": {
        "id": "ztqxGvjhstbs",
        "colab": {
          "base_uri": "https://localhost:8080/",
          "height": 656
        },
        "cellView": "form",
        "outputId": "8a6ddc90-c780-47a2-fcbe-5fb10d142831"
      },
      "source": [
        "#@title Gráfico da integral $\\frac{2\\epsilon}{\\epsilon^2 + \\Delta k^2}$\n",
        "fig, ax = plt.subplots(figsize=(10,4), dpi=120)\n",
        "for i in alpha:\n",
        "    area, _  = sci.quad(lambda x :f(x,i),-np.inf,np.inf)\n",
        "    line = ax.plot(x, f(x, i), lw=3, label=r'$\\epsilon$ = {} $\\to$ Área = {}.'.format(i, round(area, 4)))[0]\n",
        "\n",
        "ax.set(xlim=(-20,20))\n",
        "plt.title('Gráfico da Integral', fontsize=35)\n",
        "plt.xlabel(r'$\\epsilon$')\n",
        "plt.ylabel(r'f($\\epsilon$)', fontsize=30)\n",
        "plt.annotate(r'$f(\\epsilon)=\\sqrt{\\epsilon\\pi} exp(\\frac{-\\alpha^2 \\epsilon}{4})$', (10,14),fontsize=20)\n",
        "ax.legend(loc='center', bbox_to_anchor=(0.83,0.7), markerscale=1, fontsize=15)\n",
        "ax.tick_params(axis=\"x\", labelsize=20)\n",
        "ax.tick_params(axis=\"y\", labelsize=20)\n",
        "ax.spines['left'].set_linewidth(2)\n",
        "ax.spines['bottom'].set_linewidth(2)\n",
        "ax.spines['right'].set_linewidth(2)\n",
        "ax.spines['top'].set_linewidth(2)\n",
        "\n",
        "plt.xlabel(r\"$\\alpha$\", fontsize=30)\n",
        "\n",
        "\n",
        "plt.show()"
      ],
      "execution_count": null,
      "outputs": [
        {
          "output_type": "display_data",
          "data": {
            "image/png": "[encoded data removed]",
            "text/plain": [
              "<Figure size 1200x480 with 1 Axes>"
            ]
          },
          "metadata": {
            "needs_background": "light"
          }
        }
      ]
    },
    {
      "cell_type": "markdown",
      "metadata": {
        "id": "JzvoAKB9tUWW"
      },
      "source": [
        "###**3) Mostrar que os estados onde o momentum está bem definido (e.g. em $p_0$),$\\frac{1}{\\sqrt{2π ̄\\hslash}} e^{i\\frac{p0x}{\\hslash}}$ são ortonormais e completas, e que não pertencem $F$**\n",
        "\n",
        "$$\n",
        "\\left \\langle \\frac{1}{\\sqrt{2π ̄\\hslash}} e^{i\\frac{p_0x}{\\hslash}} | \\frac{1}{\\sqrt{2π ̄\\hslash}} e^{i\\frac{p_1x}{\\hslash}}\\right \\rangle\n",
        "$$\n",
        "Fazendo os mesmos passos da atividade 1) para $\\Delta k = \\frac{\\Delta p}{\\hslash}$ temos que:\n",
        "\n",
        "$$\n",
        "\\left \\langle \\frac{1}{\\sqrt{2π ̄\\hslash}} e^{i\\frac{p_0x}{\\hslash}} | \\frac{1}{\\sqrt{2π ̄\\hslash}} e^{i\\frac{p_1x}{\\hslash}}\\right \\rangle = \\frac{1}{ \\hslash} \\delta(k_1- k_0)\n",
        "$$\n",
        "\n",
        "Usando a definição que $\\delta_{mn} = 0$, para $k_n \\neq k_m$, portanto os estados tem produto interno igual a zero, logo são ortogonais.\n",
        "\n",
        "Também podemos usar a propriedade de $\\delta_{mn} = 0$ para $m \\neq n$ no somatório:\n",
        "$$\n",
        "\\sum_m c_m \\langle f_n | f_m \\rangle = \\sum_m c_m \\delta_mn\n",
        "$$\n",
        "Assim podemos ver que a os estados de momentum são completos pois satisfazem a igualdade $c_n =  \\langle f_n | f \\rangle$\n",
        "\n",
        "\n",
        "\n",
        "Finalmente para mostrar que os estados não pertencem a $F$ basta mostrarmos que as equações de estado não são quadrado integraveis mostrando que a equação $\\boxed{ \\int_{-\\infty}^{\\infty} ({e^{i\\frac{p_0x}{\\hslash} })^2}dx}$ diverge o que é trivial por se tratar de uma exponencial complexa."
      ]
    },
    {
      "cell_type": "markdown",
      "metadata": {
        "id": "u_BIczQFeq77"
      },
      "source": [
        "###**4) Mostrar que os estados onde a posição está bem definida (e.g. em $x0$), $δ(x−x0)$ são ortonormais e completas, e que não pertencem $F$**\n",
        "\n",
        "$$\n",
        "\\int_{-\\infty}^{\\infty} \\delta(x - x_0) * f(x) dx = f(x_0)\n",
        "$$\n",
        "\n",
        "$$\n",
        "\\int_{-\\infty}^{\\infty} \\delta(x - x_0) * \\delta(x - x_0) dx = \\delta(x_0 - x_0)\n",
        "$$\n",
        "Como a $\\delta(x_0 - x_0) = \\delta(0)$\n",
        "$$\n",
        "\\int_{-\\infty}^{\\infty} [\\delta(x - x_0)]^2dx = \\infty\n",
        "$$\n",
        "Como a integral diverge, podemos afirmar que ela não pertence a $F$."
      ]
    },
    {
      "cell_type": "markdown",
      "metadata": {
        "id": "B0-OfJ20oClU"
      },
      "source": [
        "###**5) Considere os vetores ortonormais |i〉, |j〉 e |k〉.  Seja um vetor genérico (invente um com componentes não nulas). Escreva esse vetor na base acima e representado como coluna.**\n",
        "\n",
        "Seja $|R \\rangle = 2|i〉+|j〉-3|k〉$\n",
        " \n",
        "  |R〉=\n",
        "$\\begin{pmatrix}\n",
        "    2\\\\\n",
        "    3\\\\\n",
        "    -3\\\\\n",
        "  \\end{pmatrix}\n",
        "$\n"
      ]
    },
    {
      "cell_type": "markdown",
      "metadata": {
        "id": "7fuil7vHoR0P"
      },
      "source": [
        "###**a) Transforma esse vetor num bra e aplique em outro vetor (invente com componentes não nulas). Seja uma outra base :|1〉=|i〉+|j〉,|2〉=|i〉−|j〉e |3〉= |k〉. Normalize esses vetores e encontre a matriz que projeta qualquer vetor na direção |1〉O mesmo para as direções |2〉e |3〉. Qual é a soma de todos? Por quê?**\n",
        "\n",
        "Transformando $|R \\rangle$ num bra:\n",
        "\n",
        " $  \\langle R|$ = $(2,3,-3)$\n",
        "\n",
        "Aplicando em outro vetor:\n",
        "\n",
        "$ |J \\rangle$ =\n",
        "$\n",
        "\\begin{pmatrix}\n",
        "    1\\\\\n",
        "    -2\\\\\n",
        "    1\\\\\n",
        "  \\end{pmatrix}\n",
        "$\n",
        "\n",
        "$ \\langle R|J \\rangle$ = $[ 2\\langle i| +\\langle j| -3\\langle k|] [1|i\\rangle-2|j\\rangle + 1|k\\rangle]$ = $2 \\langle i | i \\rangle -6\\langle j|j \\rangle  -3\\langle k|k \\rangle   $ $= -7$\n",
        "\n",
        "\n"
      ]
    },
    {
      "cell_type": "markdown",
      "metadata": {
        "id": "06dZKnneimpg"
      },
      "source": [
        "Utilizando as outras bases:\n",
        "\n",
        "$\\langle 1|1 \\rangle $ = $[ \\langle i| +\\langle j| ] * [|i\\rangle|+j\\rangle ]A^2=1=2A^2 \\rightarrow A=\\frac{1}{\\sqrt{2}} \\rightarrow |1\\rangle = \\frac{1}{\\sqrt{2}}|i\\rangle + \\frac{1}{\\sqrt{2}}|j\\rangle $\n",
        "\n",
        "Observamos que para $|2\\rangle $ apenas troca-se o sinal em $|j\\rangle $:\n",
        "\n",
        "$|2\\rangle  = \\frac{1}{\\sqrt{2}}|i\\rangle - \\frac{1}{\\sqrt{2}}|j\\rangle$\n",
        "\n",
        "$|3 \\rangle \\rightarrow$ já esta normalizado\n"
      ]
    },
    {
      "cell_type": "markdown",
      "metadata": {
        "id": "Mkrf0FXZmSk6"
      },
      "source": [
        "Encontrando as matrizes projetoras:\n",
        "\n",
        "M1 = $| 1\\rangle \\langle 1 | $ = $ \\frac{1}{2} $\n",
        "$\n",
        "\\begin{pmatrix}\n",
        "    1\\\\\n",
        "    1\\\\\n",
        "    0\\\\\n",
        "  \\end{pmatrix}\n",
        "$\n",
        "$(1,1,0)$ =\n",
        "$\n",
        "\\begin{pmatrix}\n",
        "    \\frac{1}{2} & \\frac{1}{2} & 0 \\\\\n",
        "    \\frac{1}{2} & \\frac{1}{2} & 0\\\\\n",
        "    0 & 0 & 0\\\\\n",
        "  \\end{pmatrix}\n",
        "$\n",
        "\n",
        "M2 = $| 2\\rangle \\langle 2 | $ = $ \\frac{1}{2} $\n",
        "$\n",
        "\\begin{pmatrix}\n",
        "    1\\\\\n",
        "    -1\\\\\n",
        "    0\\\\\n",
        "  \\end{pmatrix}\n",
        "$\n",
        "$(1,-1,0)$ =\n",
        "$\n",
        "\\begin{pmatrix}\n",
        "    \\frac{1}{2} & -\\frac{1}{2} & 0 \\\\\n",
        "    -\\frac{1}{2} & \\frac{1}{2} & 0\\\\\n",
        "    0 & 0 & 0\\\\\n",
        "  \\end{pmatrix}\n",
        "$\n",
        "\n",
        "M3 = $| 3\\rangle \\langle 3 | $ =\n",
        "$\n",
        "\\begin{pmatrix}\n",
        "    0\\\\\n",
        "    0\\\\\n",
        "    1\\\\\n",
        "  \\end{pmatrix}\n",
        "$\n",
        "$(0,0,1)$ =\n",
        "$\n",
        "\\begin{pmatrix}\n",
        "    0 & 0 & 0 \\\\\n",
        "    0 & 0 & 0\\\\\n",
        "    0 & 0 & 1\\\\\n",
        "  \\end{pmatrix}\n",
        "$\n",
        "\n"
      ]
    },
    {
      "cell_type": "markdown",
      "metadata": {
        "id": "PaCErNgko13P"
      },
      "source": [
        "Somando as matrizes identidades M1 + M2 + M3:\n",
        "\n",
        "$\n",
        "\\begin{pmatrix}\n",
        "    \\frac{1}{2} & \\frac{1}{2} & 0 \\\\\n",
        "    \\frac{1}{2} & \\frac{1}{2} & 0\\\\\n",
        "    0 & 0 & 0\\\\\n",
        "  \\end{pmatrix}\n",
        "$ \n",
        "+\n",
        "$\n",
        "\\begin{pmatrix}\n",
        "    \\frac{1}{2} & -\\frac{1}{2} & 0 \\\\\n",
        "    -\\frac{1}{2} & \\frac{1}{2} & 0\\\\\n",
        "    0 & 0 & 0\\\\\n",
        "  \\end{pmatrix}\n",
        "$\n",
        "+\n",
        "$\n",
        "\\begin{pmatrix}\n",
        "    0 & 0 & 0 \\\\\n",
        "    0 & 0 & 0\\\\\n",
        "    0 & 0 & 1\\\\\n",
        "  \\end{pmatrix}\n",
        "$\n",
        "=\n",
        "$\n",
        "\\begin{pmatrix}\n",
        "    1 & 0 & 0 \\\\\n",
        "    0 & 1 & 0\\\\\n",
        "    0 & 0 & 1\\\\\n",
        "  \\end{pmatrix}\n",
        "$\n",
        "\n",
        "A soma das matrizes projetoras é a matriz identidade. Ela é a base para $IR^3$."
      ]
    },
    {
      "cell_type": "markdown",
      "metadata": {
        "id": "CIirheMOoWyr"
      },
      "source": [
        "###b) Invente uma matriz 3x3 hermitiana que tenha alguns elementos complexos. Deter-mine seus autovalores e autovetores. Podem usar Python, Mathematica, Maple, Matlab,etc...  Verifique que os autovalores são reais e que os autovetores são ortogonais (se a solucão for única)."
      ]
    },
    {
      "cell_type": "code",
      "metadata": {
        "id": "VVaXZRCqWzqR"
      },
      "source": [
        "#Inventando a matriz\n",
        "M = np.matrix([[1, 0, 0],\n",
        "               [1j, 1,0],\n",
        "               [-3, -1j, 2]])"
      ],
      "execution_count": null,
      "outputs": []
    },
    {
      "cell_type": "code",
      "metadata": {
        "colab": {
          "base_uri": "https://localhost:8080/"
        },
        "id": "ePP0NAwgr6Pg",
        "outputId": "fc6dbc9d-b449-4b38-cea9-684670f58ade"
      },
      "source": [
        "#Determinando os autovalores\n",
        "autovalores, autovetores = np.linalg.eigh(M, UPLO=\"U\")\n",
        "autovalores"
      ],
      "execution_count": null,
      "outputs": [
        {
          "output_type": "execute_result",
          "data": {
            "text/plain": [
              "array([1., 1., 2.])"
            ]
          },
          "metadata": {},
          "execution_count": 92
        }
      ]
    },
    {
      "cell_type": "code",
      "metadata": {
        "colab": {
          "base_uri": "https://localhost:8080/"
        },
        "id": "9mEtp7c2tF3s",
        "outputId": "04c1e96b-8df3-42a0-8f4a-c9ebd571143c"
      },
      "source": [
        "#Determinando os autovetores\n",
        "autovetores"
      ],
      "execution_count": null,
      "outputs": [
        {
          "output_type": "execute_result",
          "data": {
            "text/plain": [
              "matrix([[1.+0.j, 0.+0.j, 0.+0.j],\n",
              "        [0.+0.j, 1.+0.j, 0.+0.j],\n",
              "        [0.+0.j, 0.+0.j, 1.+0.j]])"
            ]
          },
          "metadata": {},
          "execution_count": 93
        }
      ]
    },
    {
      "cell_type": "code",
      "metadata": {
        "colab": {
          "base_uri": "https://localhost:8080/"
        },
        "id": "V3QL9fbRwqOc",
        "outputId": "36a346f4-169b-4b98-c72f-29cbe0358d9b"
      },
      "source": [
        "#Verificando se os autovetores são reais\n",
        "autovalores.imag == np.zeros(3)"
      ],
      "execution_count": null,
      "outputs": [
        {
          "output_type": "execute_result",
          "data": {
            "text/plain": [
              "array([ True,  True,  True])"
            ]
          },
          "metadata": {},
          "execution_count": 94
        }
      ]
    },
    {
      "cell_type": "code",
      "metadata": {
        "colab": {
          "base_uri": "https://localhost:8080/"
        },
        "id": "F5QcOwyExePB",
        "outputId": "28c48e79-e574-4956-fe29-92caf5d821a2"
      },
      "source": [
        "autovetores = []\n",
        "\n",
        "for i in range(3):\n",
        "  autovetores.append(vecs.T[i])\n",
        "  \n",
        "produtointerno = []\n",
        "for i in range(3):\n",
        "  for m in range(3):\n",
        "    produtointerno.append(np.linalg.norm(np.inner(\n",
        "         np.conj(autovetores[i]),autovetores[m])))\n",
        "    \n",
        "\n",
        "produtointerno = np.reshape(np.round(produtointerno), (3,3))\n",
        "produtointerno"
      ],
      "execution_count": null,
      "outputs": [
        {
          "output_type": "execute_result",
          "data": {
            "text/plain": [
              "array([[1., 0., 0.],\n",
              "       [0., 1., 0.],\n",
              "       [0., 0., 1.]])"
            ]
          },
          "metadata": {},
          "execution_count": 95
        }
      ]
    },
    {
      "cell_type": "markdown",
      "metadata": {
        "id": "9rLfcPEC01sT"
      },
      "source": [
        "O resultado do produto interno dos autovetores me gerou uma matriz identidade, o que prova a ortogonalidade."
      ]
    }
  ]
}