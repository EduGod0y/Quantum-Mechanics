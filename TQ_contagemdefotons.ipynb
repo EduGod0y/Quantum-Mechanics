{
  "nbformat": 4,
  "nbformat_minor": 0,
  "metadata": {
    "colab": {
      "provenance": [],
      "include_colab_link": true
    },
    "kernelspec": {
      "name": "python3",
      "display_name": "Python 3"
    },
    "language_info": {
      "name": "python"
    }
  },
  "cells": [
    {
      "cell_type": "markdown",
      "metadata": {
        "id": "view-in-github",
        "colab_type": "text"
      },
      "source": [
        "<a href=\"https://colab.research.google.com/github/EduGod0y/Quantum-Mechanics/blob/main/TQ_contagemdefotons.ipynb\" target=\"_parent\"><img src=\"https://colab.research.google.com/assets/colab-badge.svg\" alt=\"Open In Colab\"/></a>"
      ]
    },
    {
      "cell_type": "code",
      "execution_count": null,
      "metadata": {
        "id": "eJ2uyR0sG6Rb"
      },
      "outputs": [],
      "source": [
        "import statistics as stats\n",
        "import math\n",
        "import matplotlib.pyplot as plt\n",
        "import numpy as np\n",
        "from scipy.stats import norm\n",
        "\n",
        "#arq = \"NumerodepulsoLASER.txt\"\n",
        "def medDesVarDesmed(arq):\n",
        "  f = open(arq,\"r\")\n",
        "  linhas = f.readlines()\n",
        "  result = []\n",
        "  for x in linhas:\n",
        "    y = int(x)\n",
        "    result.append(y)\n",
        "  f.close()\n",
        "  media = stats.mean(result)\n",
        "  desv_pad = stats.stdev(result)\n",
        "  varian = stats.variance(result)\n",
        "  desv_pad_med = desv_pad / math.sqrt(len(result))\n",
        "  desv_med_abs = stats.median([abs(r-media) for r in result])\n",
        "  d = desv_pad*np.sqrt(2/np.pi)\n",
        "  print(media, desv_pad, varian, desv_pad_med)\n",
        "  print(desv_med_abs, d)\n",
        "  #return media, desv_pad, varian, desv_pad_med\n",
        "\n",
        "def desvmedabs(arq):\n",
        "  f = open(arq,\"r\")\n",
        "  linhas = f.readlines()\n",
        "  result = []\n",
        "  desvabs = []\n",
        "  for x in linhas:\n",
        "    if x != '\\n':\n",
        "      y = int(x)\n",
        "      result.append(y)\n",
        "  f.close()\n",
        "  media = stats.mean(result)\n",
        "  for i in result:\n",
        "    d = abs(i-media)\n",
        "    desvabs.append(d)\n",
        "  plt.plot(desvabs)\n",
        "  plt.show()\n",
        "\n",
        "def histograma(arq):\n",
        "  f = open(arq,\"r\")\n",
        "  linhas = f.readlines()\n",
        "  result = []\n",
        "  for x in linhas:\n",
        "    if x != '\\n':\n",
        "      y = int(x)\n",
        "      result.append(y)\n",
        "  f.close()\n",
        "  desv_pad = stats.stdev(result)\n",
        "  y,binEdges = np.histogram(result, len(result))\n",
        "  erro = [(l * (desv_pad/math.sqrt(len(result)))) for l in result ] #(l * (desv_pad/math.sqrt(len(result))))\n",
        "  bincenters = 0.8*(binEdges[1:]+binEdges[:-1])\n",
        "  plt.title(f\"histograma {arq}\")\n",
        "  plt.xlabel('Quantidade de pulsos')\n",
        "  plt.ylabel('Número de contagens')\n",
        "  plt.bar(bincenters,y, yerr = erro, width=1, color='b',)\n",
        "  plt.show()\n",
        "\n",
        "#print(\"Numero de pulsos LASER\")\n",
        "medDesVarDesmed(\"NumerodepulsoLASER.txt\")\n",
        "#desvmedabs(\"NumerodepulsoLASER.txt\")\n",
        "histograma(\"NumerodepulsoLASER.txt\")\n",
        "\n",
        "#print(\"Numero de pulsos LÂMPADA\")\n",
        "medDesVarDesmed(\"NUMEROdepulsos.txt\")\n",
        "#desvmedabs(\"NUMEROdepulsos.txt\")\n",
        "histograma(\"NUMEROdepulsos.txt\")\n",
        "\n",
        "#histograma(\"LAMP190145_10ms.csv\")\n",
        "# print(\"Numero de pulsos prof LASER\")\n",
        "# desvmedabs(\"LED184441_10ms.csv\")\n",
        "# print(\"Numero de pulsos prof LAMP\")\n",
        "# desvmedabs(\"LAMP190145_10ms.csv\")\n",
        "# print(\"tempo entre pulsos\")\n",
        "# medDesVarDesmed(\"tempoentrepulsosLASER.txt\")\n",
        "# desvmedabs(\"tempoentrepulsosLASER.txt\")\n",
        "# medDesVarDesmed(\"tempoentrePULSOS.txt\")\n",
        "# desvmedabs(\"tempoentrePULSOS.txt\")\n",
        "# medDesVarDesmed(\"NUMEROdepulsos.txt\")\n",
        "# desvmedabs(\"NUMEROdepulsos.txt\")\n",
        "# desvmedabs(\"LED184441_10ms.csv\")\n",
        "# desvmedabs(\"LAMP190145_10ms.csv\")\n",
        "\n"
      ]
    }
  ]
}