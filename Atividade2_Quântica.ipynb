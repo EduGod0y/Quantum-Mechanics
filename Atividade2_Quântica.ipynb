{
  "nbformat": 4,
  "nbformat_minor": 0,
  "metadata": {
    "colab": {
      "provenance": [],
      "mount_file_id": "110zFhGN0e8UT7RgFmy2rYPeZJRwLD8gk",
      "authorship_tag": "ABX9TyNFSIuopZXn70Rt4T/yU93a",
      "include_colab_link": true
    },
    "kernelspec": {
      "name": "python3",
      "display_name": "Python 3"
    },
    "language_info": {
      "name": "python"
    }
  },
  "cells": [
    {
      "cell_type": "markdown",
      "metadata": {
        "id": "view-in-github",
        "colab_type": "text"
      },
      "source": [
        "<a href=\"https://colab.research.google.com/github/EduGod0y/Quantum-Mechanics/blob/main/Atividade2_Qu%C3%A2ntica.ipynb\" target=\"_parent\"><img src=\"https://colab.research.google.com/assets/colab-badge.svg\" alt=\"Open In Colab\"/></a>"
      ]
    },
    {
      "cell_type": "markdown",
      "metadata": {
        "id": "csmfttGRU6RJ"
      },
      "source": [
        "##Eduardo Godoy da Silveira - 00313426\n",
        "###17/08/2021 - Atividade 2 Física Quântica\n",
        "\n",
        "###Considere uma partícula num poço quadrado infinito com largura a, e a seguinte função de onda para $t= 0:Ψ(x,0) =Ax$ para $0 ≤ x ≤ \\frac{a}{2} $ e $A(a−x)$ para $\\frac{a}{2} ≤ x ≤ a $ .\n",
        "\n",
        "###a) Faça um desenho (a mão ou usando python) da Psi(x,0) e determine A"
      ]
    },
    {
      "cell_type": "code",
      "metadata": {
        "id": "_E_YjIZrprga",
        "cellView": "form"
      },
      "source": [
        "#@title Imports\n",
        "%matplotlib inline\n",
        "\n",
        "from IPython.display import display, Math, Latex\n",
        "import numpy as np\n",
        "import matplotlib.pyplot as plt\n",
        "import pandas as pd\n",
        "import scipy as spy\n",
        "import matplotlib.animation as animation\n",
        "import scipy.integrate as sci \n"
      ],
      "execution_count": null,
      "outputs": []
    },
    {
      "cell_type": "markdown",
      "metadata": {
        "id": "WFk5kbH_kHG2"
      },
      "source": [
        "Para determinarmos A para uma partícula precisamos resolver a integral:\n",
        "$$ \n",
        "\\mathcal\\int_0^a|Ψ(x,0)|^2=1\n",
        "$$\n",
        "$$\n",
        "\\mathcal\\int_0^\\frac{a}{2}|Ψ(x,0)|^2 + \\int_\\frac{a}{2}^a|Ψ(x,0)|^2 = 1\n",
        "$$\n",
        "Calculando essas integrais no Wolphram assim como a demonstração feita em aula do dia 11/08:\n",
        "$$\n",
        "A = \\sqrt{\\frac{12}{a^3}}\n",
        "$$\n",
        "\n"
      ]
    },
    {
      "cell_type": "code",
      "metadata": {
        "scrolled": true,
        "id": "u3dcW_ngFipz",
        "colab": {
          "base_uri": "https://localhost:8080/",
          "height": 300
        },
        "outputId": "d50bc57b-3de7-4cc1-fb1a-0331db215c2a"
      },
      "source": [
        "def psi0(x,a):\n",
        "    A = np.sqrt(12/a**3)\n",
        "    if 0<x<(a/2):\n",
        "        return A*x\n",
        "    elif (a/2<x<a):\n",
        "        return A*(a-x)\n",
        "    else:\n",
        "        return 0\n",
        "\n",
        "n=10000\n",
        "x_list = np.linspace(-2,12,n)\n",
        "psi0_list = [0]\n",
        "\n",
        "i=0\n",
        "while i<n-1:\n",
        "    psi0_list.append(psi0(x_list[i],10))\n",
        "    i = i + 1\n",
        "\n",
        "plt.plot(x_list,psi0_list,color='green',label='a = 10')\n",
        "plt.legend()\n",
        "plt.title('$\\Psi(x,0)$')"
      ],
      "execution_count": null,
      "outputs": [
        {
          "output_type": "execute_result",
          "data": {
            "text/plain": [
              "Text(0.5, 1.0, '$\\\\Psi(x,0)$')"
            ]
          },
          "metadata": {},
          "execution_count": 2
        },
        {
          "output_type": "display_data",
          "data": {
            "image/png": "[encoded data removed]",
            "text/plain": [
              "<Figure size 432x288 with 1 Axes>"
            ]
          },
          "metadata": {
            "needs_background": "light"
          }
        }
      ]
    },
    {
      "cell_type": "markdown",
      "metadata": {
        "id": "XYqLMsCCuosV"
      },
      "source": [
        "###b) Calcule Ψ(x, t) para 3 tempos diferentes e faça um gráfico (usando python). Pode ser um filme, mas é não obrigatório.\n",
        "\n",
        "Aplicando na solução geral:\n",
        "$$\n",
        "\\mathcal Ψ(x,t) = \\sum_{n=1}^\\infty c_n \\sqrt\\frac{2}{L} \\sin({\\frac{n\\pi}{L}x}) e^{-i(n^2 \\pi^2 \\hslash / 2mL^2)t}\n",
        "$$\n",
        "\n",
        "$$\n",
        "\\mathcal C_n = \\sqrt{\\frac{2}{L}} \\int_{0}^{a} \\sin({\\frac{n\\pi}{L}x})  Ψ(x,0) dx\n",
        "$$\n",
        "Temos que:\n",
        "$$\n",
        "\\mathcal Ψ(x,t) = \\frac{4\\sqrt{6}}{\\pi^2} \\sqrt{\\frac{2}{a}}\\sum_{n=1,3,5,...}^\\infty (-1)^{(n-1)/2} \\frac{1}{n^2} \\sin(\\frac{n\\pi}{a}x)e^{(-E_n t/\\hslash)}\n",
        "$$\n",
        "onde\n",
        "$$\n",
        "E_n = \\frac{n^2 \\pi^2 \\hslash^2}{2ma^2}\n",
        "$$"
      ]
    },
    {
      "cell_type": "code",
      "metadata": {
        "id": "Kjxglu3yFip5"
      },
      "source": [
        "c_list = np.zeros(99)\n",
        "h_cortado = 1\n",
        "m = 1\n",
        "a=10\n",
        "E_list = np.zeros(99)\n",
        "\n",
        "def integ_cn(n,x,a):\n",
        "    return np.sqrt(2/a)*np.sin((n*np.pi*x)/a)*psi0(x,a)\n",
        "\n",
        "for n in range(1,100):\n",
        "    c_list[n-1],err = np.float128(sci.quad(lambda x :integ_cn(n,x,3),0,3))\n",
        "    E_list[n-1] = ((n**2)*(np.pi**2)*(h_cortado**2)/(2*m*a**2))\n",
        "    \n"
      ],
      "execution_count": null,
      "outputs": []
    },
    {
      "cell_type": "code",
      "metadata": {
        "id": "VniSol9WFip7"
      },
      "source": [
        "lista1=[]\n",
        "lista2=[]\n",
        "lista3=[]\n",
        "\n",
        "def psi_real(nmax,x,t):\n",
        "    ss =0\n",
        "    for n in range(1,nmax):\n",
        "        ss = ss + c_list[n-1]*np.sqrt(2/a)*np.sin((n*np.pi*x)/a)*np.cos(E_list[n-1]*t/h_cortado)\n",
        "    return ss\n",
        "\n",
        "def psi_imag(nmax,x,t):\n",
        "    ss =0\n",
        "    for n in range(1,nmax):\n",
        "        ss = ss + c_list[n-1]*np.sqrt(2/a)*np.sin((n*np.pi*x)/a)*np.sin(-E_list[n-1]*t/h_cortado)\n",
        "    return ss\n",
        "  \n",
        "nmax = 20\n",
        "dt = 0\n",
        "for t in range(100):\n",
        "  dt = dt+t*.1\n",
        "  psi1=[]\n",
        "  psi2=[]\n",
        "  for x in x_list:\n",
        "    psi1.append(psi_real(nmax,x,t))\n",
        "    psi2.append(psi_imag(nmax,x,t))\n",
        "  lista1.append(psi1)\n",
        "  lista2.append(psi2)"
      ],
      "execution_count": null,
      "outputs": []
    },
    {
      "cell_type": "code",
      "metadata": {
        "id": "VqK8Fdp7mH9C"
      },
      "source": [
        "for i in range(len(lista1)):\n",
        "  plt.plot(x_list,lista2[i], label = 'parte imaginária',color='blue')\n",
        "  plt.plot(x_list,lista1[i], label = 'parte real',color='red')\n",
        "  plt.xlim(-3,13)\n",
        "  plt.ylim(-0.6,0.6)\n",
        "  plt.xlabel('X')\n",
        "  plt.ylabel('$\\Psi(x,t)$')\n",
        "  plt.legend()\n",
        "  plt.title('Gráfico para t={:03d}x10^-2s'.format(i))\n",
        "  plt.savefig('teste{:03d}.jpeg'.format(i))\n",
        "  plt.show()"
      ],
      "execution_count": null,
      "outputs": []
    },
    {
      "cell_type": "code",
      "metadata": {
        "id": "evQB-Dbln133"
      },
      "source": [
        "import glob\n",
        "from PIL import Image\n",
        "\n",
        "# filepaths\n",
        "fp_in = \"teste0*.jpeg\"\n",
        "fp_out = \"grafico1.gif\"\n",
        "\n",
        "# https://pillow.readthedocs.io/en/stable/handbook/image-file-formats.html#gif\n",
        "img, *imgs = [Image.open(f) for f in sorted(glob.glob(fp_in))]\n",
        "img.save(fp=fp_out, format='GIF', append_images=imgs,\n",
        "         save_all=True, duration=100, loop=0)"
      ],
      "execution_count": null,
      "outputs": []
    },
    {
      "cell_type": "markdown",
      "metadata": {
        "id": "VZkDY83vM51f"
      },
      "source": [
        "###{c) Expanda $\\Psi(x,0)$ e $\\Psi(x,0)^*$ nos estados estacionários e obtenha o valor esperado da energia, correspondente ao operador $H = \\frac {-\\hbar^2}{2 m} \\frac{d^2}{dx^2}$ como função dos coeficientes desta expansão ($c_n$) e autovalores ($E_n$) dos estados estacionários.  Interprete esta expressão e finalmente calcule numericamente a probabilidade que  uma medida de energia resulte em $E_1$.}\n",
        "\n",
        "$$\n",
        "H = \\frac {-\\hbar^2}{2 m} \\frac{d^2}{dx^2}\n",
        "$$\n",
        "Multiplicando por $\\Psi(x,0)$:\n",
        "$$\n",
        "H \\Psi(x,0) = \\frac {-\\hbar^2}{2 m} \\frac{d^2}{dx^2} \\Psi(x,0)\n",
        "$$\n",
        "\n",
        "Isolando H e aplicando uma integral:\n",
        "$$\n",
        "<H> = \\int dx \\Psi(x,0)H\\Psi(x,0)^*\n",
        "$$\n",
        "Abrindo em somatório:\n",
        "$$\n",
        "<H> = \\int dx \\sum_{n} c_n \\phi_n H \\sum_{m} c_m^* \\phi_m^*\n",
        "$$\n",
        "Como $H\\phi_n=E_n\\phi_n$:\n",
        "$$\n",
        "<H> = \\sum_{n,m} c_nc_m^*E_n \\int \\phi_n \\phi_m^* dx\n",
        "$$\n",
        "Sabendo que $\\int \\phi_n \\phi_m^* dx = 1$:\n",
        "$$\n",
        "\\boxed{<H> = \\sum_{n} |c_n|^2E_n}\n",
        "$$\n",
        "Se interpretarmos $|c_n|^2$ como a probabilidade de encontrar essa partícula no estado $n$, podemos dizer que essa expressão nos da uma média ponderada da energia do sistema, onde a probabilidade $P(n)$ dada por $|c_n|^2$ seria o peso das ponderações da média.\n",
        "Então assim, a probabilidade que uma medida resulte em $E_1$ pode ser descrita em:\n",
        "$$\n",
        "P(1) = |c_1|^2\n",
        "$$\n",
        "Abrindo $c_1$:\n",
        "$$\n",
        "P(1) = | \\frac{4\\sqrt{6}}{1^2\\pi^2} \\sin(1\\frac{\\pi}{2})|^2=\\boxed{0,9853...}\n",
        "$$"
      ]
    },
    {
      "cell_type": "markdown",
      "metadata": {
        "id": "WjXkVI6gwCyN"
      },
      "source": [
        "###d) Numericamente determine o valor esperado da energia.\n",
        "$$\n",
        "<H> = \\sum_{n} |c_n|^2E_n\n",
        "$$\n",
        "Abrindo $c_n$ e $E_n$:\n",
        "$$\n",
        "<H> = \\sum_{n} | \\frac{4\\sqrt{6}}{n^2\\pi^2} \\sin(n\\frac{\\pi}{2})|^2 \\frac{n^2 \\pi^2 \\hslash^2}{2ma^2}\n",
        "$$\n",
        "Tirando as constantes do somatório e aplicando o quadrado:\n",
        "$$\n",
        "<H> = \\frac{96}{\\pi^4} \\frac{\\pi^2\\hslash^2}{2ma^2} \\sum_{n} \\frac{1}{n^2}\\sin^2(n\\frac{\\pi}{2})\n",
        "$$\n",
        "$$\n",
        "<H> = \\frac{48\\hslash^2}{\\pi^2ma^2}  \\sum_{n} \\frac{1}{n^2}\n",
        "$$\n",
        "Aplicando para os $n$ ímpares vemos que o somatório tende a $\\frac{\\pi^2}{8}$, então:\n",
        "$$\n",
        "\\boxed{<H> = \\frac{6\\hslash^2}{ma^2}}\n",
        "$$\n"
      ]
    },
    {
      "cell_type": "markdown",
      "metadata": {
        "id": "020HZTEvF8zL"
      },
      "source": [
        "###Esse trabalho foi produzido em Google Colab exclusivamente por mim. Nenhuma parte deste trabalho (texto e fórmulas) foram copiadas digitalmente de outras fontes.\n",
        "\n",
        "Eduardo G. da Silveira"
      ]
    }
  ]
}